{
  "cells": [
    {
      "cell_type": "markdown",
      "metadata": {
        "id": "-HrqrHW5iPga"
      },
      "source": [
        "# Proyecto final\n",
        "---\n",
        "Este notebook tiene como objetivo ser presentado como trabajo final del módulo 3 del programa de formación MLDS, este proyecto fue realizado por:\n",
        "\n",
        "\n",
        "\n",
        "*   Juan Camilo Gutierrez\n",
        "*   Yenny Paola Dorado\n",
        "\n",
        "\n"
      ]
    },
    {
      "cell_type": "markdown",
      "source": [
        "\n",
        " **Instalación de modulos de Pyspark y Python** "
      ],
      "metadata": {
        "id": "-rmTvYwh-F_k"
      }
    },
    {
      "cell_type": "code",
      "source": [
        "# Instalamos el OpenJDK 8 con apt-get.\n",
        "!apt-get install openjdk-8-jdk-headless -qq > /dev/null"
      ],
      "metadata": {
        "id": "Tl24cVXj94_Z"
      },
      "execution_count": null,
      "outputs": []
    },
    {
      "cell_type": "code",
      "source": [
        "# Configuramos la variable de entorno de Java.\n",
        "import os\n",
        "os.environ[\"JAVA_HOME\"] = \"/usr/lib/jvm/java-8-openjdk-amd64\"\n"
      ],
      "metadata": {
        "id": "rSsuAbMK96S9"
      },
      "execution_count": null,
      "outputs": []
    },
    {
      "cell_type": "code",
      "source": [
        "# Instalamos los paquetes de PySpark.\n",
        "!pip install -q pyspark"
      ],
      "metadata": {
        "id": "CaQta-0P9_re",
        "colab": {
          "base_uri": "https://localhost:8080/"
        },
        "outputId": "f113fb58-b39c-481c-8b97-6478d4be9a14"
      },
      "execution_count": null,
      "outputs": [
        {
          "output_type": "stream",
          "name": "stdout",
          "text": [
            "\u001b[K     |████████████████████████████████| 281.3 MB 46 kB/s \n",
            "\u001b[K     |████████████████████████████████| 199 kB 28.2 MB/s \n",
            "\u001b[?25h  Building wheel for pyspark (setup.py) ... \u001b[?25l\u001b[?25hdone\n"
          ]
        }
      ]
    },
    {
      "cell_type": "code",
      "source": [
        "# Instalamos los paquetes de PySpark.\n",
        "!pip install -q pyspark\n",
        "!pip install -q findspark"
      ],
      "metadata": {
        "id": "oNKPo_GHWDE-"
      },
      "execution_count": null,
      "outputs": []
    },
    {
      "cell_type": "code",
      "source": [
        "# Importamos pyspark\n",
        "import pyspark"
      ],
      "metadata": {
        "id": "9g2BPARb-erM"
      },
      "execution_count": null,
      "outputs": []
    },
    {
      "cell_type": "code",
      "source": [
        "import findspark\n",
        "findspark.init()\n",
        "from pyspark.sql import SparkSession\n",
        "spark = SparkSession.builder.master(\"local[*]\").getOrCreate()"
      ],
      "metadata": {
        "id": "Nm_jvHU8Pzsp"
      },
      "execution_count": null,
      "outputs": []
    },
    {
      "cell_type": "code",
      "source": [
        "# Librerías básicas de análisis de datos.\n",
        "import numpy as np\n",
        "import pandas as pd\n",
        "import matplotlib as mpl"
      ],
      "metadata": {
        "id": "zRBjNvNI-g--"
      },
      "execution_count": null,
      "outputs": []
    },
    {
      "cell_type": "code",
      "source": [
        "# Versiones de las librerías usadas.\n",
        "!python --version\n",
        "print('PySpark', pyspark.__version__)\n",
        "print('NumPy', np.__version__)\n",
        "print('Pandas', pd.__version__)\n",
        "print('Matplotlib', mpl.__version__)"
      ],
      "metadata": {
        "id": "98GH9y4X-k-d",
        "colab": {
          "base_uri": "https://localhost:8080/"
        },
        "outputId": "30f2b4ac-d245-49da-c0a9-9f68f67310b1"
      },
      "execution_count": null,
      "outputs": [
        {
          "output_type": "stream",
          "name": "stdout",
          "text": [
            "Python 3.7.13\n",
            "PySpark 3.3.0\n",
            "NumPy 1.21.6\n",
            "Pandas 1.3.5\n",
            "Matplotlib 3.2.2\n"
          ]
        }
      ]
    },
    {
      "cell_type": "markdown",
      "metadata": {
        "id": "zjtCfsvzjeRW"
      },
      "source": [
        "# Descripción del dataset\n",
        "\n",
        "\n",
        "---\n",
        "\n",
        "\n",
        "El dataset que se utilizará para este proyecto es de la base de datos de la aplicación Airbnb, la cual se puede consultar en este [link](http://insideairbnb.com/get-the-data.html).\n",
        "Específicamente, se seleccionó el listado de alojamientos de la ciudad de Londres en Inglaterra, el cual contiene la información detallada de los anuncios publicados de la ciudad."
      ]
    },
    {
      "cell_type": "markdown",
      "metadata": {
        "id": "CdYQq2KklhB3"
      },
      "source": [
        "# Problema\n",
        "\n",
        "\n",
        "---\n",
        "\n",
        "Se va a realizar el análisis hecho en el anterior proyecto, con el esquema de programación para el proceso de datos distribuidos **Apache Spark**, para ello se analizará la información con ayuda de este framework para procesar los datos, además se utilizarán técnicas de Machine Learning para analizar la distribución de precios y reseñas de las publicaciones de los alojamientos en la ciudad de **Londres**, la cual es la ciudad con mayores anuncios en Airbnb. \n",
        "\n"
      ]
    },
    {
      "cell_type": "markdown",
      "metadata": {
        "id": "5fxOr6y-npKP"
      },
      "source": [
        "# Objetivos \n",
        "\n",
        "\n",
        "---\n",
        "\n",
        "\n",
        "# Generales\n",
        "\n",
        "*   Conocer la distribución de precios ciudad de Londres.\n",
        "\n",
        "# Específicos\n",
        "\n",
        "*   Describir los datos con ayuda de Apache Spark.\n",
        "\n",
        "* Modelar los precios mediante alguna técnica de Machine Learning.\n",
        "\n"
      ]
    },
    {
      "cell_type": "markdown",
      "metadata": {
        "id": "H0p_caPn_IJj"
      },
      "source": [
        "#Carga de datos\n",
        "\n",
        "---\n",
        "\n"
      ]
    },
    {
      "cell_type": "markdown",
      "source": [
        "Lectura de los datos"
      ],
      "metadata": {
        "id": "PiLQnSu_qVvD"
      }
    },
    {
      "cell_type": "code",
      "source": [
        "lista_original = pd.read_csv('./sample_data/listings.csv')"
      ],
      "metadata": {
        "id": "nm8giBs9c-DK"
      },
      "execution_count": null,
      "outputs": []
    },
    {
      "cell_type": "code",
      "source": [
        "lista=lista_original"
      ],
      "metadata": {
        "id": "dTvTl1OamQgP"
      },
      "execution_count": null,
      "outputs": []
    },
    {
      "cell_type": "code",
      "source": [
        "lista=lista.drop(['amenities','name','description','neighborhood_overview','host_about'],axis=1)"
      ],
      "metadata": {
        "id": "ZLTcCOVvdD2U"
      },
      "execution_count": null,
      "outputs": []
    },
    {
      "cell_type": "code",
      "source": [
        "for i in range(lista['price'].size):\n",
        "  lista['price'][i]=lista['price'][i].replace('$','')\n",
        "  lista['price'][i]=lista['price'][i].replace(',','')\n",
        "lista.price = lista.price.astype('float64')\n",
        "lista.longitude = lista.longitude.astype('float64')\n",
        "lista.latitude = lista.latitude.astype('float64')"
      ],
      "metadata": {
        "id": "oTLy5hupmXfx",
        "colab": {
          "base_uri": "https://localhost:8080/"
        },
        "outputId": "4a381d15-6093-4385-ffd5-601d24149516"
      },
      "execution_count": null,
      "outputs": [
        {
          "output_type": "stream",
          "name": "stderr",
          "text": [
            "/usr/local/lib/python3.7/dist-packages/ipykernel_launcher.py:2: SettingWithCopyWarning: \n",
            "A value is trying to be set on a copy of a slice from a DataFrame\n",
            "\n",
            "See the caveats in the documentation: https://pandas.pydata.org/pandas-docs/stable/user_guide/indexing.html#returning-a-view-versus-a-copy\n",
            "  \n",
            "/usr/local/lib/python3.7/dist-packages/ipykernel_launcher.py:3: SettingWithCopyWarning: \n",
            "A value is trying to be set on a copy of a slice from a DataFrame\n",
            "\n",
            "See the caveats in the documentation: https://pandas.pydata.org/pandas-docs/stable/user_guide/indexing.html#returning-a-view-versus-a-copy\n",
            "  This is separate from the ipykernel package so we can avoid doing imports until\n"
          ]
        }
      ]
    },
    {
      "cell_type": "code",
      "source": [
        "lista.to_csv('./sample_data/listingsSpark.csv')"
      ],
      "metadata": {
        "id": "_JkJPtW1mZgd"
      },
      "execution_count": null,
      "outputs": []
    },
    {
      "cell_type": "markdown",
      "source": [
        "# Exploración de los datos\n",
        "---"
      ],
      "metadata": {
        "id": "OhKzrpbgLyT6"
      }
    },
    {
      "cell_type": "code",
      "source": [
        "lista.shape"
      ],
      "metadata": {
        "id": "hvImrV0TespQ",
        "colab": {
          "base_uri": "https://localhost:8080/"
        },
        "outputId": "a5c3fed8-cbb4-4394-8eb9-147a277bbde5"
      },
      "execution_count": null,
      "outputs": [
        {
          "output_type": "execute_result",
          "data": {
            "text/plain": [
              "(66632, 69)"
            ]
          },
          "metadata": {},
          "execution_count": 15
        }
      ]
    },
    {
      "cell_type": "code",
      "source": [
        "archivo = './sample_data/listingsSpark.csv'\n",
        "df_spark = spark.read.csv(archivo, inferSchema=True, header=True,multiLine=True)\n",
        "\n",
        "# imprimir tipo de archivo\n",
        "print(type(df_spark))"
      ],
      "metadata": {
        "id": "V_fAj9GfpMJT",
        "colab": {
          "base_uri": "https://localhost:8080/"
        },
        "outputId": "d12b5711-1960-41d1-ed84-db6518b299a8"
      },
      "execution_count": null,
      "outputs": [
        {
          "output_type": "stream",
          "name": "stdout",
          "text": [
            "<class 'pyspark.sql.dataframe.DataFrame'>\n"
          ]
        }
      ]
    },
    {
      "cell_type": "code",
      "source": [
        "df_spark"
      ],
      "metadata": {
        "id": "d0R8g7PXWSpw",
        "colab": {
          "base_uri": "https://localhost:8080/"
        },
        "outputId": "703eceb3-ec4c-4c18-bffd-1d8dd268b0da"
      },
      "execution_count": null,
      "outputs": [
        {
          "output_type": "execute_result",
          "data": {
            "text/plain": [
              "DataFrame[_c0: int, id: bigint, listing_url: string, scrape_id: bigint, last_scraped: timestamp, picture_url: string, host_id: int, host_url: string, host_name: string, host_since: timestamp, host_location: string, host_response_time: string, host_response_rate: string, host_acceptance_rate: string, host_is_superhost: string, host_thumbnail_url: string, host_picture_url: string, host_neighbourhood: string, host_listings_count: double, host_total_listings_count: double, host_verifications: string, host_has_profile_pic: string, host_identity_verified: string, neighbourhood: string, neighbourhood_cleansed: string, neighbourhood_group_cleansed: string, latitude: double, longitude: double, property_type: string, room_type: string, accommodates: int, bathrooms: string, bathrooms_text: string, bedrooms: double, beds: double, price: double, minimum_nights: int, maximum_nights: int, minimum_minimum_nights: double, maximum_minimum_nights: double, minimum_maximum_nights: double, maximum_maximum_nights: double, minimum_nights_avg_ntm: double, maximum_nights_avg_ntm: double, calendar_updated: string, has_availability: string, availability_30: int, availability_60: int, availability_90: int, availability_365: int, calendar_last_scraped: timestamp, number_of_reviews: int, number_of_reviews_ltm: int, number_of_reviews_l30d: int, first_review: timestamp, last_review: timestamp, review_scores_rating: double, review_scores_accuracy: double, review_scores_cleanliness: double, review_scores_checkin: double, review_scores_communication: double, review_scores_location: double, review_scores_value: double, license: string, instant_bookable: string, calculated_host_listings_count: int, calculated_host_listings_count_entire_homes: int, calculated_host_listings_count_private_rooms: int, calculated_host_listings_count_shared_rooms: int, reviews_per_month: double]"
            ]
          },
          "metadata": {},
          "execution_count": 17
        }
      ]
    },
    {
      "cell_type": "markdown",
      "source": [
        "Revisión de cuantos registros tiene la base"
      ],
      "metadata": {
        "id": "gHMpBpzyqacy"
      }
    },
    {
      "cell_type": "code",
      "source": [
        "df_spark.count()"
      ],
      "metadata": {
        "id": "wNaSJQ2BqjXj",
        "colab": {
          "base_uri": "https://localhost:8080/"
        },
        "outputId": "8d02a071-dc94-4478-cdc7-339b939ba692"
      },
      "execution_count": null,
      "outputs": [
        {
          "output_type": "execute_result",
          "data": {
            "text/plain": [
              "66632"
            ]
          },
          "metadata": {},
          "execution_count": 18
        }
      ]
    },
    {
      "cell_type": "markdown",
      "source": [
        "Estructura del DataFrame"
      ],
      "metadata": {
        "id": "I0t5qZTWqpnK"
      }
    },
    {
      "cell_type": "code",
      "source": [
        "df_spark.printSchema()"
      ],
      "metadata": {
        "id": "u8_hzUn-qsVT",
        "colab": {
          "base_uri": "https://localhost:8080/"
        },
        "outputId": "5cec2958-3be1-4059-e0dc-a73a2153a670"
      },
      "execution_count": null,
      "outputs": [
        {
          "output_type": "stream",
          "name": "stdout",
          "text": [
            "root\n",
            " |-- _c0: integer (nullable = true)\n",
            " |-- id: long (nullable = true)\n",
            " |-- listing_url: string (nullable = true)\n",
            " |-- scrape_id: long (nullable = true)\n",
            " |-- last_scraped: timestamp (nullable = true)\n",
            " |-- picture_url: string (nullable = true)\n",
            " |-- host_id: integer (nullable = true)\n",
            " |-- host_url: string (nullable = true)\n",
            " |-- host_name: string (nullable = true)\n",
            " |-- host_since: timestamp (nullable = true)\n",
            " |-- host_location: string (nullable = true)\n",
            " |-- host_response_time: string (nullable = true)\n",
            " |-- host_response_rate: string (nullable = true)\n",
            " |-- host_acceptance_rate: string (nullable = true)\n",
            " |-- host_is_superhost: string (nullable = true)\n",
            " |-- host_thumbnail_url: string (nullable = true)\n",
            " |-- host_picture_url: string (nullable = true)\n",
            " |-- host_neighbourhood: string (nullable = true)\n",
            " |-- host_listings_count: double (nullable = true)\n",
            " |-- host_total_listings_count: double (nullable = true)\n",
            " |-- host_verifications: string (nullable = true)\n",
            " |-- host_has_profile_pic: string (nullable = true)\n",
            " |-- host_identity_verified: string (nullable = true)\n",
            " |-- neighbourhood: string (nullable = true)\n",
            " |-- neighbourhood_cleansed: string (nullable = true)\n",
            " |-- neighbourhood_group_cleansed: string (nullable = true)\n",
            " |-- latitude: double (nullable = true)\n",
            " |-- longitude: double (nullable = true)\n",
            " |-- property_type: string (nullable = true)\n",
            " |-- room_type: string (nullable = true)\n",
            " |-- accommodates: integer (nullable = true)\n",
            " |-- bathrooms: string (nullable = true)\n",
            " |-- bathrooms_text: string (nullable = true)\n",
            " |-- bedrooms: double (nullable = true)\n",
            " |-- beds: double (nullable = true)\n",
            " |-- price: double (nullable = true)\n",
            " |-- minimum_nights: integer (nullable = true)\n",
            " |-- maximum_nights: integer (nullable = true)\n",
            " |-- minimum_minimum_nights: double (nullable = true)\n",
            " |-- maximum_minimum_nights: double (nullable = true)\n",
            " |-- minimum_maximum_nights: double (nullable = true)\n",
            " |-- maximum_maximum_nights: double (nullable = true)\n",
            " |-- minimum_nights_avg_ntm: double (nullable = true)\n",
            " |-- maximum_nights_avg_ntm: double (nullable = true)\n",
            " |-- calendar_updated: string (nullable = true)\n",
            " |-- has_availability: string (nullable = true)\n",
            " |-- availability_30: integer (nullable = true)\n",
            " |-- availability_60: integer (nullable = true)\n",
            " |-- availability_90: integer (nullable = true)\n",
            " |-- availability_365: integer (nullable = true)\n",
            " |-- calendar_last_scraped: timestamp (nullable = true)\n",
            " |-- number_of_reviews: integer (nullable = true)\n",
            " |-- number_of_reviews_ltm: integer (nullable = true)\n",
            " |-- number_of_reviews_l30d: integer (nullable = true)\n",
            " |-- first_review: timestamp (nullable = true)\n",
            " |-- last_review: timestamp (nullable = true)\n",
            " |-- review_scores_rating: double (nullable = true)\n",
            " |-- review_scores_accuracy: double (nullable = true)\n",
            " |-- review_scores_cleanliness: double (nullable = true)\n",
            " |-- review_scores_checkin: double (nullable = true)\n",
            " |-- review_scores_communication: double (nullable = true)\n",
            " |-- review_scores_location: double (nullable = true)\n",
            " |-- review_scores_value: double (nullable = true)\n",
            " |-- license: string (nullable = true)\n",
            " |-- instant_bookable: string (nullable = true)\n",
            " |-- calculated_host_listings_count: integer (nullable = true)\n",
            " |-- calculated_host_listings_count_entire_homes: integer (nullable = true)\n",
            " |-- calculated_host_listings_count_private_rooms: integer (nullable = true)\n",
            " |-- calculated_host_listings_count_shared_rooms: integer (nullable = true)\n",
            " |-- reviews_per_month: double (nullable = true)\n",
            "\n"
          ]
        }
      ]
    },
    {
      "cell_type": "markdown",
      "source": [
        "Revisión de los nombres de las columnas del DataFrame"
      ],
      "metadata": {
        "id": "h6J1OJp7quYD"
      }
    },
    {
      "cell_type": "code",
      "source": [
        "df_spark.columns"
      ],
      "metadata": {
        "id": "dZn5V30vq6e8",
        "colab": {
          "base_uri": "https://localhost:8080/"
        },
        "outputId": "7688eb69-a871-4afa-89f1-815ce2a6d083"
      },
      "execution_count": null,
      "outputs": [
        {
          "output_type": "execute_result",
          "data": {
            "text/plain": [
              "['_c0',\n",
              " 'id',\n",
              " 'listing_url',\n",
              " 'scrape_id',\n",
              " 'last_scraped',\n",
              " 'picture_url',\n",
              " 'host_id',\n",
              " 'host_url',\n",
              " 'host_name',\n",
              " 'host_since',\n",
              " 'host_location',\n",
              " 'host_response_time',\n",
              " 'host_response_rate',\n",
              " 'host_acceptance_rate',\n",
              " 'host_is_superhost',\n",
              " 'host_thumbnail_url',\n",
              " 'host_picture_url',\n",
              " 'host_neighbourhood',\n",
              " 'host_listings_count',\n",
              " 'host_total_listings_count',\n",
              " 'host_verifications',\n",
              " 'host_has_profile_pic',\n",
              " 'host_identity_verified',\n",
              " 'neighbourhood',\n",
              " 'neighbourhood_cleansed',\n",
              " 'neighbourhood_group_cleansed',\n",
              " 'latitude',\n",
              " 'longitude',\n",
              " 'property_type',\n",
              " 'room_type',\n",
              " 'accommodates',\n",
              " 'bathrooms',\n",
              " 'bathrooms_text',\n",
              " 'bedrooms',\n",
              " 'beds',\n",
              " 'price',\n",
              " 'minimum_nights',\n",
              " 'maximum_nights',\n",
              " 'minimum_minimum_nights',\n",
              " 'maximum_minimum_nights',\n",
              " 'minimum_maximum_nights',\n",
              " 'maximum_maximum_nights',\n",
              " 'minimum_nights_avg_ntm',\n",
              " 'maximum_nights_avg_ntm',\n",
              " 'calendar_updated',\n",
              " 'has_availability',\n",
              " 'availability_30',\n",
              " 'availability_60',\n",
              " 'availability_90',\n",
              " 'availability_365',\n",
              " 'calendar_last_scraped',\n",
              " 'number_of_reviews',\n",
              " 'number_of_reviews_ltm',\n",
              " 'number_of_reviews_l30d',\n",
              " 'first_review',\n",
              " 'last_review',\n",
              " 'review_scores_rating',\n",
              " 'review_scores_accuracy',\n",
              " 'review_scores_cleanliness',\n",
              " 'review_scores_checkin',\n",
              " 'review_scores_communication',\n",
              " 'review_scores_location',\n",
              " 'review_scores_value',\n",
              " 'license',\n",
              " 'instant_bookable',\n",
              " 'calculated_host_listings_count',\n",
              " 'calculated_host_listings_count_entire_homes',\n",
              " 'calculated_host_listings_count_private_rooms',\n",
              " 'calculated_host_listings_count_shared_rooms',\n",
              " 'reviews_per_month']"
            ]
          },
          "metadata": {},
          "execution_count": 20
        }
      ]
    },
    {
      "cell_type": "markdown",
      "source": [
        "A continuación se observan los 20 primeros registros de la base"
      ],
      "metadata": {
        "id": "GMEepizoq89C"
      }
    },
    {
      "cell_type": "code",
      "source": [
        "df_spark.show()"
      ],
      "metadata": {
        "id": "4vyb7J-IrHgj",
        "colab": {
          "base_uri": "https://localhost:8080/"
        },
        "outputId": "f796ff29-9d11-431b-a17e-569026eac518"
      },
      "execution_count": null,
      "outputs": [
        {
          "output_type": "stream",
          "name": "stdout",
          "text": [
            "+---+-----+--------------------+--------------+-------------------+--------------------+-------+--------------------+------------+-------------------+--------------------+------------------+------------------+--------------------+-----------------+--------------------+--------------------+--------------------+-------------------+-------------------------+--------------------+--------------------+----------------------+--------------------+----------------------+----------------------------+--------+---------+--------------------+---------------+------------+---------+----------------+--------+----+-----+--------------+--------------+----------------------+----------------------+----------------------+----------------------+----------------------+----------------------+----------------+----------------+---------------+---------------+---------------+----------------+---------------------+-----------------+---------------------+----------------------+-------------------+-------------------+--------------------+----------------------+-------------------------+---------------------+---------------------------+----------------------+-------------------+-------+----------------+------------------------------+-------------------------------------------+--------------------------------------------+-------------------------------------------+-----------------+\n",
            "|_c0|   id|         listing_url|     scrape_id|       last_scraped|         picture_url|host_id|            host_url|   host_name|         host_since|       host_location|host_response_time|host_response_rate|host_acceptance_rate|host_is_superhost|  host_thumbnail_url|    host_picture_url|  host_neighbourhood|host_listings_count|host_total_listings_count|  host_verifications|host_has_profile_pic|host_identity_verified|       neighbourhood|neighbourhood_cleansed|neighbourhood_group_cleansed|latitude|longitude|       property_type|      room_type|accommodates|bathrooms|  bathrooms_text|bedrooms|beds|price|minimum_nights|maximum_nights|minimum_minimum_nights|maximum_minimum_nights|minimum_maximum_nights|maximum_maximum_nights|minimum_nights_avg_ntm|maximum_nights_avg_ntm|calendar_updated|has_availability|availability_30|availability_60|availability_90|availability_365|calendar_last_scraped|number_of_reviews|number_of_reviews_ltm|number_of_reviews_l30d|       first_review|        last_review|review_scores_rating|review_scores_accuracy|review_scores_cleanliness|review_scores_checkin|review_scores_communication|review_scores_location|review_scores_value|license|instant_bookable|calculated_host_listings_count|calculated_host_listings_count_entire_homes|calculated_host_listings_count_private_rooms|calculated_host_listings_count_shared_rooms|reviews_per_month|\n",
            "+---+-----+--------------------+--------------+-------------------+--------------------+-------+--------------------+------------+-------------------+--------------------+------------------+------------------+--------------------+-----------------+--------------------+--------------------+--------------------+-------------------+-------------------------+--------------------+--------------------+----------------------+--------------------+----------------------+----------------------------+--------+---------+--------------------+---------------+------------+---------+----------------+--------+----+-----+--------------+--------------+----------------------+----------------------+----------------------+----------------------+----------------------+----------------------+----------------+----------------+---------------+---------------+---------------+----------------+---------------------+-----------------+---------------------+----------------------+-------------------+-------------------+--------------------+----------------------+-------------------------+---------------------+---------------------------+----------------------+-------------------+-------+----------------+------------------------------+-------------------------------------------+--------------------------------------------+-------------------------------------------+-----------------+\n",
            "|  0|36299|https://www.airbn...|20220309064259|2022-03-09 00:00:00|https://a0.muscac...| 155938|https://www.airbn...|       Geert|2010-06-30 00:00:00|Richmond, England...|within a few hours|              100%|                 95%|                t|https://a0.muscac...|https://a0.muscac...|LB of Richmond up...|                1.0|                      1.0|['email', 'phone'...|                   t|                     t|Richmond, United ...|  Richmond upon Thames|                        null|51.48085| -0.28086|    Entire townhouse|Entire home/apt|           5|     null|       1.5 baths|     3.0| 3.0|195.0|             3|            22|                   3.0|                   3.0|                  22.0|                  22.0|                   3.0|                  22.0|            null|               t|              0|              2|             16|             233|  2022-03-09 00:00:00|               89|                   10|                     2|2010-10-25 00:00:00|2022-03-07 00:00:00|                4.82|                  4.82|                      4.8|                 4.94|                       4.96|                   4.9|               4.63|   null|               f|                             1|                                          1|                                           0|                                          0|             0.64|\n",
            "|  1|36660|https://www.airbn...|20220309064259|2022-03-09 00:00:00|https://a0.muscac...| 157884|https://www.airbn...|Agri & Roger|2010-07-04 00:00:00|London, England, ...|within a few hours|              100%|                 98%|                t|https://a0.muscac...|https://a0.muscac...|      LB of Haringey|                4.0|                      4.0|['email', 'phone'...|                   t|                     t|                null|              Haringey|                        null|51.58478| -0.16057|Private room in r...|   Private room|           2|     null|  0 shared baths|     1.0| 1.0| 72.0|             2|           365|                   2.0|                   2.0|                 365.0|                 365.0|                   2.0|                 365.0|            null|               t|              0|             16|             26|             236|  2022-03-09 00:00:00|              550|                   22|                     1|2010-09-14 00:00:00|2022-03-01 00:00:00|                4.85|                  4.87|                     4.84|                 4.95|                       4.96|                  4.77|               4.85|   null|               t|                             2|                                          0|                                           2|                                          0|             3.93|\n",
            "|  2|24328|https://www.airbn...|20220309064259|2022-03-09 00:00:00|https://a0.muscac...|  41759|https://www.airbn...|         Joe|2009-09-28 00:00:00|Greater London, E...|              null|              null|                  0%|                f|https://a0.muscac...|https://a0.muscac...|           Battersea|                1.0|                      1.0|['email', 'phone'...|                   t|                     t|London, United Ki...|            Wandsworth|                        null|51.47119| -0.16256|    Entire townhouse|Entire home/apt|           4|     null|       1.5 baths|     1.0| 1.0|250.0|             3|          1125|                   3.0|                   3.0|                1125.0|                1125.0|                   3.0|                1125.0|            null|               t|              9|             23|             27|              27|  2022-03-09 00:00:00|               93|                    0|                     0|2010-11-15 00:00:00|2019-06-08 00:00:00|                4.89|                  4.88|                     4.92|                 4.89|                       4.93|                  4.58|               4.64|   null|               f|                             1|                                          1|                                           0|                                          0|             0.68|\n",
            "|  3|25123|https://www.airbn...|20220309064259|2022-03-09 00:00:00|https://a0.muscac...| 103583|https://www.airbn...|       Grace|2010-04-05 00:00:00|London, England, ...|              null|              null|                null|                f|https://a0.muscac...|https://a0.muscac...|        LB of Barnet|                3.0|                      3.0|['email', 'phone'...|                   t|                     t|Barnet, England, ...|                Barnet|                        null|51.57438| -0.21081|Private room in r...|   Private room|           2|     null|1.5 shared baths|     1.0| 1.0| 29.0|            10|          1120|                  10.0|                  10.0|                1125.0|                1125.0|                  10.0|                1125.0|            null|               t|              0|              0|              0|               0|  2022-03-09 00:00:00|              129|                    0|                     0|2010-04-14 00:00:00|2020-03-15 00:00:00|                4.78|                   4.7|                     4.94|                 4.91|                       4.89|                  4.45|               4.74|   null|               t|                             3|                                          0|                                           3|                                          0|             0.89|\n",
            "|  4|15400|https://www.airbn...|20220309064259|2022-03-09 00:00:00|https://a0.muscac...|  60302|https://www.airbn...|    Philippa|2009-12-05 00:00:00|Kensington, Engla...|within a few hours|              100%|                 43%|                f|https://a0.muscac...|https://a0.muscac...|             Chelsea|                1.0|                      1.0|['email', 'phone'...|                   t|                     t|London, United Ki...|  Kensington and Ch...|                        null| 51.4878| -0.16813|  Entire rental unit|Entire home/apt|           2|     null|          1 bath|     1.0| 1.0| 75.0|             3|            50|                   3.0|                   3.0|                  50.0|                  50.0|                   3.0|                  50.0|            null|               t|              2|              2|              4|               9|  2022-03-09 00:00:00|               89|                    0|                     0|2009-12-21 00:00:00|2020-03-16 00:00:00|                4.79|                  4.84|                     4.88|                 4.87|                       4.82|                  4.93|               4.73|   null|               f|                             1|                                          1|                                           0|                                          0|              0.6|\n",
            "|  5|17402|https://www.airbn...|20220309064259|2022-03-10 00:00:00|https://a0.muscac...|  67564|https://www.airbn...|         Liz|2010-01-04 00:00:00|Brighton and Hove...|    within an hour|               88%|                 74%|                f|https://a0.muscac...|https://a0.muscac...|           Fitzrovia|               18.0|                     18.0|['email', 'phone'...|                   t|                     t|London, Fitzrovia...|           Westminster|                        null|51.52195| -0.14094|  Entire rental unit|Entire home/apt|           6|     null|         2 baths|     3.0| 3.0|307.0|             4|           365|                   2.0|                   4.0|                 365.0|                 365.0|                   4.0|                 365.0|            null|               t|              8|             17|             28|             213|  2022-03-10 00:00:00|               45|                    3|                     0|2011-03-21 00:00:00|2022-01-17 00:00:00|                4.71|                  4.81|                     4.67|                 4.67|                       4.67|                  4.86|                4.6|   null|               f|                             1|                                          1|                                           0|                                          0|             0.34|\n",
            "|  6|38151|https://www.airbn...|20220309064259|2022-03-09 00:00:00|https://a0.muscac...| 163634|https://www.airbn...|        Lisa|2010-07-11 00:00:00|                  GB|              null|              null|                  0%|                f|https://a0.muscac...|https://a0.muscac...|      Crystal Palace|                1.0|                      1.0|           ['phone']|                   f|                     f|                null|               Croydon|                        null|51.41844| -0.08729|Private room in r...|   Private room|           2|     null|            null|     1.0|null| 65.0|             1|           730|                   1.0|                   1.0|                 730.0|                 730.0|                   1.0|                 730.0|            null|               t|             30|             60|             90|             365|  2022-03-09 00:00:00|                0|                    0|                     0|               null|               null|                null|                  null|                     null|                 null|                       null|                  null|               null|   null|               f|                             1|                                          0|                                           1|                                          0|             null|\n",
            "|  7|17506|https://www.airbn...|20220309064259|2022-03-10 00:00:00|https://a0.muscac...|  67915|https://www.airbn...|   Charlotte|2010-01-05 00:00:00|London, England, ...|      within a day|              100%|                null|                f|https://a0.muscac...|https://a0.muscac...|              Fulham|                3.0|                      3.0|['email', 'phone'...|                   t|                     t|London, United Ki...|  Hammersmith and F...|                        null|51.47935| -0.19743|Private room in t...|   Private room|           2|     null|  1 private bath|     1.0| 1.0|150.0|             3|            21|                   3.0|                   3.0|                  21.0|                  21.0|                   3.0|                  21.0|            null|               t|             29|             59|             89|             364|  2022-03-10 00:00:00|                0|                    0|                     0|               null|               null|                null|                  null|                     null|                 null|                       null|                  null|               null|   null|               f|                             2|                                          0|                                           2|                                          0|             null|\n",
            "|  8|31361|https://www.airbn...|20220309064259|2022-03-09 00:00:00|https://a0.muscac...| 134606|https://www.airbn...|        Cryn|2010-05-29 00:00:00|Greater London, E...|within a few hours|              100%|                 86%|                f|https://a0.muscac...|https://a0.muscac...|        LB of Newham|                1.0|                      1.0|['email', 'phone'...|                   t|                     t|London, United Ki...|                Newham|                        null|51.53403|  0.02709|Private room in t...|   Private room|           2|     null|1.5 shared baths|     1.0| 1.0| 33.0|             1|            30|                   1.0|                   1.0|                  30.0|                  30.0|                   1.0|                  30.0|            null|               t|              0|             28|             58|             333|  2022-03-09 00:00:00|              116|                    0|                     0|2010-07-01 00:00:00|2019-10-12 00:00:00|                4.86|                  4.88|                     4.77|                 4.98|                       4.99|                  4.45|                4.8|   null|               f|                             2|                                          0|                                           2|                                          0|             0.81|\n",
            "|  9|67851|https://www.airbn...|20220309064259|2022-03-10 00:00:00|https://a0.muscac...| 235606|https://www.airbn...|         Ben|2010-09-15 00:00:00|Berlin, Berlin, G...|              null|              null|                  0%|                f|https://a0.muscac...|https://a0.muscac...|       LB of Hackney|                1.0|                      1.0|['email', 'phone'...|                   t|                     t|                null|               Hackney|                        null|51.54092| -0.05905|  Entire rental unit|Entire home/apt|           2|     null|          1 bath|     1.0| 1.0| 76.0|             7|            30|                   7.0|                   7.0|                  30.0|                  30.0|                   7.0|                  30.0|            null|               t|              0|              0|              0|              37|  2022-03-10 00:00:00|               36|                    0|                     0|2012-12-02 00:00:00|2020-09-20 00:00:00|                4.89|                   4.8|                      4.8|                 4.94|                       4.94|                  4.91|               4.83|   null|               f|                             1|                                          1|                                           0|                                          0|             0.32|\n",
            "| 10|33332|https://www.airbn...|20220309064259|2022-03-09 00:00:00|https://a0.muscac...| 144444|https://www.airbn...|     Chi-Chi|2010-06-14 00:00:00|Isleworth, Englan...|              null|              null|                100%|                f|https://a0.muscac...|https://a0.muscac...|      LB of Hounslow|                2.0|                      2.0|['email', 'phone'...|                   t|                     t|Twickenham, Engla...|              Hounslow|                        null|51.46416| -0.32554|Private room in r...|   Private room|           2|     null|  1 private bath|     1.0| 1.0| 65.0|             2|            21|                   2.0|                   2.0|                  21.0|                  21.0|                   2.0|                  21.0|            null|               t|             30|             58|             88|             363|  2022-03-09 00:00:00|               12|                    6|                     0|2010-10-16 00:00:00|2021-11-28 00:00:00|                 4.5|                  4.45|                     4.64|                 4.64|                       4.73|                  4.73|               4.36|   null|               f|                             1|                                          0|                                           1|                                          0|             0.09|\n",
            "| 11|38605|https://www.airbn...|20220309064259|2022-03-09 00:00:00|https://a0.muscac...| 165579|https://www.airbn...| Elisa & Dom|2010-07-13 00:00:00|      United Kingdom|    within an hour|              100%|                 65%|                t|https://a0.muscac...|https://a0.muscac...|     Shepherd's Bush|                2.0|                      2.0|['email', 'phone'...|                   t|                     t|London, United Ki...|  Hammersmith and F...|                        null|51.50681| -0.23345|Private room in t...|   Private room|           2|     null|  1 private bath|     1.0| 1.0| 62.0|             2|            14|                   2.0|                   2.0|                  14.0|                  14.0|                   2.0|                  14.0|            null|               t|             13|             15|             15|              15|  2022-03-09 00:00:00|              369|                    3|                     3|2010-10-30 00:00:00|2022-02-27 00:00:00|                4.76|                  4.86|                     4.79|                 4.89|                       4.88|                  4.52|               4.76|   null|               f|                             2|                                          1|                                           1|                                          0|             2.67|\n",
            "| 12|38610|https://www.airbn...|20220309064259|2022-03-10 00:00:00|https://a0.muscac...| 165579|https://www.airbn...| Elisa & Dom|2010-07-13 00:00:00|      United Kingdom|    within an hour|              100%|                 65%|                t|https://a0.muscac...|https://a0.muscac...|     Shepherd's Bush|                2.0|                      2.0|['email', 'phone'...|                   t|                     t|London, United Ki...|  Hammersmith and F...|                        null|51.50701| -0.23362|    Entire townhouse|Entire home/apt|           8|     null|         2 baths|     4.0| 4.0|190.0|            91|          1125|                  14.0|                  91.0|                1125.0|                1125.0|                  56.0|                1125.0|            null|               t|              0|              0|              0|             218|  2022-03-10 00:00:00|               36|                    0|                     0|2012-08-09 00:00:00|2020-08-12 00:00:00|                4.86|                  4.89|                     4.58|                  5.0|                        5.0|                  4.75|               4.72|   null|               f|                             2|                                          1|                                           1|                                          0|             0.31|\n",
            "| 13|38950|https://www.airbn...|20220309064259|2022-03-09 00:00:00|https://a0.muscac...| 167107|https://www.airbn...|        Paul|2010-07-15 00:00:00|London, England, ...|      within a day|               50%|                 75%|                f|https://a0.muscac...|https://a0.muscac...|      LB of Haringey|                4.0|                      4.0|['email', 'phone'...|                   t|                     t|                null|              Haringey|                        null|51.58684| -0.08632|Private room in r...|   Private room|           2|     null|1.5 shared baths|     1.0| 1.0| 45.0|             1|            32|                   1.0|                   1.0|                  32.0|                  32.0|                   1.0|                  32.0|            null|               t|             29|             59|             89|              89|  2022-03-09 00:00:00|                1|                    1|                     0|2021-12-12 00:00:00|2021-12-12 00:00:00|                 5.0|                   5.0|                      5.0|                  5.0|                        5.0|                   5.0|                5.0|   null|               f|                             4|                                          0|                                           4|                                          0|             0.34|\n",
            "| 14|81211|https://www.airbn...|20220309064259|2022-03-09 00:00:00|https://a0.muscac...| 439880|https://www.airbn...|         Liz|2011-03-13 00:00:00|London, England, ...|a few days or more|                0%|                 75%|                f|https://a0.muscac...|https://a0.muscac...|           Hampstead|                1.0|                      1.0|['email', 'phone'...|                   t|                     f|London, United Ki...|                Camden|                        null|51.54796| -0.16462|  Entire rental unit|Entire home/apt|           2|     null|       1.5 baths|     1.0| 2.0|110.0|            14|           100|                  14.0|                  14.0|                 100.0|                 100.0|                  14.0|                 100.0|            null|               t|             27|             57|             87|             362|  2022-03-09 00:00:00|                8|                    0|                     0|2013-10-23 00:00:00|2019-07-01 00:00:00|                4.75|                  4.38|                     3.88|                  5.0|                        5.0|                   5.0|               4.75|   null|               f|                             1|                                          1|                                           0|                                          0|             0.08|\n",
            "| 15|81410|https://www.airbn...|20220309064259|2022-03-10 00:00:00|https://a0.muscac...| 441494|https://www.airbn...|    Fernando|2011-03-14 00:00:00|London, England, ...|      within a day|              100%|                 54%|                f|https://a0.muscac...|https://a0.muscac...|           Fitzrovia|                5.0|                      5.0|['email', 'phone'...|                   t|                     t|London, England, ...|                Camden|                        null|51.52139| -0.13932|  Entire rental unit|Entire home/apt|           5|     null|         2 baths|     2.0| 5.0|400.0|             4|           365|                   4.0|                   4.0|                 365.0|                 365.0|                   4.0|                 365.0|            null|               t|             27|             57|             83|              83|  2022-03-10 00:00:00|              213|                    0|                     0|2011-07-03 00:00:00|2020-10-20 00:00:00|                4.84|                  4.82|                      4.8|                 4.83|                        4.9|                  4.92|               4.64|   null|               f|                             3|                                          3|                                           0|                                          0|             1.64|\n",
            "| 16|81473|https://www.airbn...|20220309064259|2022-03-09 00:00:00|https://a0.muscac...| 441881|https://www.airbn...|       Petra|2011-03-14 00:00:00|      United Kingdom|    within an hour|              100%|                 20%|                f|https://a0.muscac...|https://a0.muscac...|      Crystal Palace|                1.0|                      1.0|['email', 'phone'...|                   t|                     t|London, England, ...|               Bromley|                        null|51.41565| -0.07714|Private room in r...|   Private room|           2|     null|            null|     1.0| 1.0| 40.0|             2|            30|                   2.0|                   2.0|                  30.0|                  30.0|                   2.0|                  30.0|            null|               t|              0|              0|             19|              19|  2022-03-09 00:00:00|               62|                    1|                     0|2011-04-21 00:00:00|2021-11-06 00:00:00|                 4.8|                  4.88|                     4.71|                 4.97|                       4.98|                  4.71|               4.81|   null|               f|                             1|                                          0|                                           1|                                          0|             0.47|\n",
            "| 17|38995|https://www.airbn...|20220309064259|2022-03-09 00:00:00|https://a0.muscac...| 167281|https://www.airbn...|       Cesar|2010-07-15 00:00:00|London, England, ...|    within an hour|              100%|                  0%|                f|https://a0.muscac...|https://a0.muscac...|             Peckham|                1.0|                      1.0|['email', 'phone'...|                   t|                     t|London, United Ki...|             Southwark|                        null| 51.4786| -0.06114|Private room in r...|   Private room|           2|     null|   1 shared bath|     1.0| 1.0| 42.0|             1|             7|                   1.0|                   1.0|                   7.0|                   7.0|                   1.0|                   7.0|            null|               t|              7|             37|             67|              67|  2022-03-09 00:00:00|                6|                    0|                     0|2020-02-08 00:00:00|2020-02-21 00:00:00|                 5.0|                  4.83|                      5.0|                  5.0|                        5.0|                  4.83|                5.0|   null|               f|                             1|                                          0|                                           1|                                          0|             0.24|\n",
            "| 18|67934|https://www.airbn...|20220309064259|2022-03-09 00:00:00|https://a0.muscac...| 335716|https://www.airbn...|     Laura D|2011-01-05 00:00:00|             Edgware|within a few hours|              100%|                  0%|                f|https://a0.muscac...|https://a0.muscac...|        LB of Barnet|                2.0|                      2.0|['email', 'phone'...|                   t|                     t|                null|                Barnet|                        null|51.60268| -0.26268|Private room in r...|   Private room|           1|     null|   1 shared bath|     1.0| 1.0| 25.0|             5|            30|                   5.0|                   5.0|                  30.0|                  30.0|                   5.0|                  30.0|            null|               t|              7|             35|             64|             339|  2022-03-09 00:00:00|               29|                    0|                     0|2011-12-12 00:00:00|2020-01-03 00:00:00|                4.54|                  4.68|                     4.84|                 4.88|                       4.68|                  4.36|               4.56|   null|               f|                             2|                                          0|                                           2|                                          0|             0.23|\n",
            "| 19|39387|https://www.airbn...|20220309064259|2022-03-31 00:00:00|https://a0.muscac...| 168920|https://www.airbn...|        Alec|2010-07-17 00:00:00|London, England, ...|              null|              null|                null|                f|https://a0.muscac...|https://a0.muscac...| City of Westminster|                1.0|                      1.0|['email', 'phone'...|                   t|                     f|London, England, ...|           Westminster|                        null|51.52605| -0.19942|Private room in c...|   Private room|           1|     null|   1 shared bath|     1.0| 1.0| 42.0|             5|            10|                   5.0|                   5.0|                  10.0|                  10.0|                   5.0|                  10.0|            null|               t|              0|              0|              0|               0|  2022-03-31 00:00:00|               10|                    0|                     0|2014-06-18 00:00:00|2019-11-03 00:00:00|                 4.5|                   4.6|                      3.6|                  4.8|                        4.9|                   4.5|                4.3|   null|               f|                             1|                                          0|                                           1|                                          0|             0.11|\n",
            "+---+-----+--------------------+--------------+-------------------+--------------------+-------+--------------------+------------+-------------------+--------------------+------------------+------------------+--------------------+-----------------+--------------------+--------------------+--------------------+-------------------+-------------------------+--------------------+--------------------+----------------------+--------------------+----------------------+----------------------------+--------+---------+--------------------+---------------+------------+---------+----------------+--------+----+-----+--------------+--------------+----------------------+----------------------+----------------------+----------------------+----------------------+----------------------+----------------+----------------+---------------+---------------+---------------+----------------+---------------------+-----------------+---------------------+----------------------+-------------------+-------------------+--------------------+----------------------+-------------------------+---------------------+---------------------------+----------------------+-------------------+-------+----------------+------------------------------+-------------------------------------------+--------------------------------------------+-------------------------------------------+-----------------+\n",
            "only showing top 20 rows\n",
            "\n"
          ]
        }
      ]
    },
    {
      "cell_type": "code",
      "source": [
        "df=df_spark.drop(*('_c0','listing_url','scrape_id','last_scraped','picture_url','host_url','host_since','host_response_time','host_response_rate','host_acceptance_rate','host_is_superhost','host_thumbnail_url','host_picture_url','host_neighbourhood','host_listings_count','host_total_listings_count','host_verifications','host_has_profile_pic','host_identity_verified','neighbourhood_cleansed','neighbourhood_group_cleansed','review_scores_checkin','review_scores_communication','review_scores_location','review_scores_value','license','instant_bookable','calculated_host_listings_count','calculated_host_listings_count_entire_homes','calculated_host_listings_count_private_rooms','calculated_host_listings_count_shared_rooms','reviews_per_month','minimum_minimum_nights','maximum_minimum_nights','minimum_maximum_nights','maximum_maximum_nights','minimum_nights_avg_ntm','maximum_nights_avg_ntm','calendar_updated','has_availability','availability_30','availability_60','availability_90','availability_365','calendar_last_scraped','number_of_reviews_ltm','bathrooms_text','number_of_reviews','bathrooms','number_of_reviews_l30d','first_review','last_review','review_scores_cleanliness','review_scores_accuracy','id', 'name', 'description', 'neighborhood_overview', 'host_id','host_name', 'host_location', 'host_about', 'neighbourhood'))"
      ],
      "metadata": {
        "id": "tuhffYvMjnbC"
      },
      "execution_count": null,
      "outputs": []
    },
    {
      "cell_type": "code",
      "source": [
        "df=df.na.drop(how=\"any\")"
      ],
      "metadata": {
        "id": "QSevfbDRQ_G2"
      },
      "execution_count": null,
      "outputs": []
    },
    {
      "cell_type": "markdown",
      "metadata": {
        "id": "ftBnYI6741eS"
      },
      "source": [
        "Definición de algunas de las variables\n",
        "\n",
        "* **id:**  Número de identificación único del anuncio\n",
        "* **name:** Nombre de la publicación\n",
        "* **description:** Descripción del anuncio\n",
        "* **neighborhood_overview:** Descripción del barrio dada por el arrendatario\n",
        "* **host_id:** Número de identificación único del arrendatario\n",
        "* **host_name:** Nombre del arrendatario\n",
        "* **host_location:** Ubicación del arrendatario\n",
        "* **host_about:** Descripción del arrendatario\n",
        "* **neighbourhood:** Nombre del vecindario\n",
        "* **latitude:** Latitud del hospedaje\n",
        "* **longitude:** Longitud del hospedaje\n",
        "* **property_type:** Tipo de propiedad (casa, edificio, hotel …)\n",
        "* **room_type:** Tipo de habitación (compartida, privada, hotel…)\n",
        "* **accommodates:** Número máximo de personas\n",
        "* **bedrooms:** Número de dormitorios\n",
        "* **beds:** Número de camas\n",
        "* **price:** Precio por día\n",
        "* **minimum_nights:** Mínimo de noches\n",
        "* **maximum_nights:** Máximo de noches\n",
        "* **review_scores_rating:** Calificación de usuarios al inmueble\n",
        "\n"
      ]
    },
    {
      "cell_type": "markdown",
      "source": [
        "# Análisis descriptivo de las variables\n",
        "---\n",
        "A continuación, se va obtener algunas estadísticas descriptivas de las variables cuantitativas. "
      ],
      "metadata": {
        "id": "dfuOpJRTMKeo"
      }
    },
    {
      "cell_type": "code",
      "source": [
        "df.describe().show()"
      ],
      "metadata": {
        "id": "KuStPnUSkoiS",
        "colab": {
          "base_uri": "https://localhost:8080/"
        },
        "outputId": "abc8476d-7ed0-48c7-be30-ab1eb0c6dfe4"
      },
      "execution_count": null,
      "outputs": [
        {
          "output_type": "stream",
          "name": "stdout",
          "text": [
            "+-------+-------------------+-------------------+-------------+---------------+------------------+------------------+------------------+------------------+------------------+------------------+--------------------+\n",
            "|summary|           latitude|          longitude|property_type|      room_type|      accommodates|          bedrooms|              beds|             price|    minimum_nights|    maximum_nights|review_scores_rating|\n",
            "+-------+-------------------+-------------------+-------------+---------------+------------------+------------------+------------------+------------------+------------------+------------------+--------------------+\n",
            "|  count|              44997|              44997|        44997|          44997|             44997|             44997|             44997|             44997|             44997|             44997|               44997|\n",
            "|   mean|  51.50893200362299|-0.1270199451892754|         null|           null|3.1411649665533257|1.4916549992221704| 1.798186545769718|128.13067537835855| 5.319487965864391|34954.599128830814|   4.553184656754987|\n",
            "| stddev|0.04805062705041062|0.09737045904210184|         null|           null|1.9450132958090918|0.8662193434820611|1.3075096800014594| 262.7594767420607|23.773350967402173| 5324394.196859078|  0.8962205220143236|\n",
            "|    min|           51.29057|           -0.51065|         Boat|Entire home/apt|                 1|               1.0|               1.0|               8.0|                 1|                 1|                 0.0|\n",
            "|    max|           51.68522|            0.27896|         Yurt|    Shared room|                16|              22.0|              60.0|           18679.0|              1124|         999999999|                 5.0|\n",
            "+-------+-------------------+-------------------+-------------+---------------+------------------+------------------+------------------+------------------+------------------+------------------+--------------------+\n",
            "\n"
          ]
        }
      ]
    },
    {
      "cell_type": "code",
      "source": [
        "df.describe().toPandas().transpose()"
      ],
      "metadata": {
        "id": "yS4ZsztdruCC",
        "colab": {
          "base_uri": "https://localhost:8080/",
          "height": 426
        },
        "outputId": "0bc5225b-974a-43c8-e3a0-98cd310fe79b"
      },
      "execution_count": null,
      "outputs": [
        {
          "output_type": "execute_result",
          "data": {
            "text/plain": [
              "                          0                    1                    2  \\\n",
              "summary               count                 mean               stddev   \n",
              "latitude              44997    51.50893200362299  0.04805062705041062   \n",
              "longitude             44997  -0.1270199451892754  0.09737045904210184   \n",
              "property_type         44997                 None                 None   \n",
              "room_type             44997                 None                 None   \n",
              "accommodates          44997   3.1411649665533257   1.9450132958090918   \n",
              "bedrooms              44997   1.4916549992221704   0.8662193434820611   \n",
              "beds                  44997    1.798186545769718   1.3075096800014594   \n",
              "price                 44997   128.13067537835855    262.7594767420607   \n",
              "minimum_nights        44997    5.319487965864391   23.773350967402173   \n",
              "maximum_nights        44997   34954.599128830814    5324394.196859078   \n",
              "review_scores_rating  44997    4.553184656754987   0.8962205220143236   \n",
              "\n",
              "                                    3            4  \n",
              "summary                           min          max  \n",
              "latitude                     51.29057     51.68522  \n",
              "longitude                    -0.51065      0.27896  \n",
              "property_type                    Boat         Yurt  \n",
              "room_type             Entire home/apt  Shared room  \n",
              "accommodates                        1           16  \n",
              "bedrooms                          1.0         22.0  \n",
              "beds                              1.0         60.0  \n",
              "price                             8.0      18679.0  \n",
              "minimum_nights                      1         1124  \n",
              "maximum_nights                      1    999999999  \n",
              "review_scores_rating              0.0          5.0  "
            ],
            "text/html": [
              "\n",
              "  <div id=\"df-e2e961a9-1d9e-4f51-8ca0-8c181ada97ca\">\n",
              "    <div class=\"colab-df-container\">\n",
              "      <div>\n",
              "<style scoped>\n",
              "    .dataframe tbody tr th:only-of-type {\n",
              "        vertical-align: middle;\n",
              "    }\n",
              "\n",
              "    .dataframe tbody tr th {\n",
              "        vertical-align: top;\n",
              "    }\n",
              "\n",
              "    .dataframe thead th {\n",
              "        text-align: right;\n",
              "    }\n",
              "</style>\n",
              "<table border=\"1\" class=\"dataframe\">\n",
              "  <thead>\n",
              "    <tr style=\"text-align: right;\">\n",
              "      <th></th>\n",
              "      <th>0</th>\n",
              "      <th>1</th>\n",
              "      <th>2</th>\n",
              "      <th>3</th>\n",
              "      <th>4</th>\n",
              "    </tr>\n",
              "  </thead>\n",
              "  <tbody>\n",
              "    <tr>\n",
              "      <th>summary</th>\n",
              "      <td>count</td>\n",
              "      <td>mean</td>\n",
              "      <td>stddev</td>\n",
              "      <td>min</td>\n",
              "      <td>max</td>\n",
              "    </tr>\n",
              "    <tr>\n",
              "      <th>latitude</th>\n",
              "      <td>44997</td>\n",
              "      <td>51.50893200362299</td>\n",
              "      <td>0.04805062705041062</td>\n",
              "      <td>51.29057</td>\n",
              "      <td>51.68522</td>\n",
              "    </tr>\n",
              "    <tr>\n",
              "      <th>longitude</th>\n",
              "      <td>44997</td>\n",
              "      <td>-0.1270199451892754</td>\n",
              "      <td>0.09737045904210184</td>\n",
              "      <td>-0.51065</td>\n",
              "      <td>0.27896</td>\n",
              "    </tr>\n",
              "    <tr>\n",
              "      <th>property_type</th>\n",
              "      <td>44997</td>\n",
              "      <td>None</td>\n",
              "      <td>None</td>\n",
              "      <td>Boat</td>\n",
              "      <td>Yurt</td>\n",
              "    </tr>\n",
              "    <tr>\n",
              "      <th>room_type</th>\n",
              "      <td>44997</td>\n",
              "      <td>None</td>\n",
              "      <td>None</td>\n",
              "      <td>Entire home/apt</td>\n",
              "      <td>Shared room</td>\n",
              "    </tr>\n",
              "    <tr>\n",
              "      <th>accommodates</th>\n",
              "      <td>44997</td>\n",
              "      <td>3.1411649665533257</td>\n",
              "      <td>1.9450132958090918</td>\n",
              "      <td>1</td>\n",
              "      <td>16</td>\n",
              "    </tr>\n",
              "    <tr>\n",
              "      <th>bedrooms</th>\n",
              "      <td>44997</td>\n",
              "      <td>1.4916549992221704</td>\n",
              "      <td>0.8662193434820611</td>\n",
              "      <td>1.0</td>\n",
              "      <td>22.0</td>\n",
              "    </tr>\n",
              "    <tr>\n",
              "      <th>beds</th>\n",
              "      <td>44997</td>\n",
              "      <td>1.798186545769718</td>\n",
              "      <td>1.3075096800014594</td>\n",
              "      <td>1.0</td>\n",
              "      <td>60.0</td>\n",
              "    </tr>\n",
              "    <tr>\n",
              "      <th>price</th>\n",
              "      <td>44997</td>\n",
              "      <td>128.13067537835855</td>\n",
              "      <td>262.7594767420607</td>\n",
              "      <td>8.0</td>\n",
              "      <td>18679.0</td>\n",
              "    </tr>\n",
              "    <tr>\n",
              "      <th>minimum_nights</th>\n",
              "      <td>44997</td>\n",
              "      <td>5.319487965864391</td>\n",
              "      <td>23.773350967402173</td>\n",
              "      <td>1</td>\n",
              "      <td>1124</td>\n",
              "    </tr>\n",
              "    <tr>\n",
              "      <th>maximum_nights</th>\n",
              "      <td>44997</td>\n",
              "      <td>34954.599128830814</td>\n",
              "      <td>5324394.196859078</td>\n",
              "      <td>1</td>\n",
              "      <td>999999999</td>\n",
              "    </tr>\n",
              "    <tr>\n",
              "      <th>review_scores_rating</th>\n",
              "      <td>44997</td>\n",
              "      <td>4.553184656754987</td>\n",
              "      <td>0.8962205220143236</td>\n",
              "      <td>0.0</td>\n",
              "      <td>5.0</td>\n",
              "    </tr>\n",
              "  </tbody>\n",
              "</table>\n",
              "</div>\n",
              "      <button class=\"colab-df-convert\" onclick=\"convertToInteractive('df-e2e961a9-1d9e-4f51-8ca0-8c181ada97ca')\"\n",
              "              title=\"Convert this dataframe to an interactive table.\"\n",
              "              style=\"display:none;\">\n",
              "        \n",
              "  <svg xmlns=\"http://www.w3.org/2000/svg\" height=\"24px\"viewBox=\"0 0 24 24\"\n",
              "       width=\"24px\">\n",
              "    <path d=\"M0 0h24v24H0V0z\" fill=\"none\"/>\n",
              "    <path d=\"M18.56 5.44l.94 2.06.94-2.06 2.06-.94-2.06-.94-.94-2.06-.94 2.06-2.06.94zm-11 1L8.5 8.5l.94-2.06 2.06-.94-2.06-.94L8.5 2.5l-.94 2.06-2.06.94zm10 10l.94 2.06.94-2.06 2.06-.94-2.06-.94-.94-2.06-.94 2.06-2.06.94z\"/><path d=\"M17.41 7.96l-1.37-1.37c-.4-.4-.92-.59-1.43-.59-.52 0-1.04.2-1.43.59L10.3 9.45l-7.72 7.72c-.78.78-.78 2.05 0 2.83L4 21.41c.39.39.9.59 1.41.59.51 0 1.02-.2 1.41-.59l7.78-7.78 2.81-2.81c.8-.78.8-2.07 0-2.86zM5.41 20L4 18.59l7.72-7.72 1.47 1.35L5.41 20z\"/>\n",
              "  </svg>\n",
              "      </button>\n",
              "      \n",
              "  <style>\n",
              "    .colab-df-container {\n",
              "      display:flex;\n",
              "      flex-wrap:wrap;\n",
              "      gap: 12px;\n",
              "    }\n",
              "\n",
              "    .colab-df-convert {\n",
              "      background-color: #E8F0FE;\n",
              "      border: none;\n",
              "      border-radius: 50%;\n",
              "      cursor: pointer;\n",
              "      display: none;\n",
              "      fill: #1967D2;\n",
              "      height: 32px;\n",
              "      padding: 0 0 0 0;\n",
              "      width: 32px;\n",
              "    }\n",
              "\n",
              "    .colab-df-convert:hover {\n",
              "      background-color: #E2EBFA;\n",
              "      box-shadow: 0px 1px 2px rgba(60, 64, 67, 0.3), 0px 1px 3px 1px rgba(60, 64, 67, 0.15);\n",
              "      fill: #174EA6;\n",
              "    }\n",
              "\n",
              "    [theme=dark] .colab-df-convert {\n",
              "      background-color: #3B4455;\n",
              "      fill: #D2E3FC;\n",
              "    }\n",
              "\n",
              "    [theme=dark] .colab-df-convert:hover {\n",
              "      background-color: #434B5C;\n",
              "      box-shadow: 0px 1px 3px 1px rgba(0, 0, 0, 0.15);\n",
              "      filter: drop-shadow(0px 1px 2px rgba(0, 0, 0, 0.3));\n",
              "      fill: #FFFFFF;\n",
              "    }\n",
              "  </style>\n",
              "\n",
              "      <script>\n",
              "        const buttonEl =\n",
              "          document.querySelector('#df-e2e961a9-1d9e-4f51-8ca0-8c181ada97ca button.colab-df-convert');\n",
              "        buttonEl.style.display =\n",
              "          google.colab.kernel.accessAllowed ? 'block' : 'none';\n",
              "\n",
              "        async function convertToInteractive(key) {\n",
              "          const element = document.querySelector('#df-e2e961a9-1d9e-4f51-8ca0-8c181ada97ca');\n",
              "          const dataTable =\n",
              "            await google.colab.kernel.invokeFunction('convertToInteractive',\n",
              "                                                     [key], {});\n",
              "          if (!dataTable) return;\n",
              "\n",
              "          const docLinkHtml = 'Like what you see? Visit the ' +\n",
              "            '<a target=\"_blank\" href=https://colab.research.google.com/notebooks/data_table.ipynb>data table notebook</a>'\n",
              "            + ' to learn more about interactive tables.';\n",
              "          element.innerHTML = '';\n",
              "          dataTable['output_type'] = 'display_data';\n",
              "          await google.colab.output.renderOutput(dataTable, element);\n",
              "          const docLink = document.createElement('div');\n",
              "          docLink.innerHTML = docLinkHtml;\n",
              "          element.appendChild(docLink);\n",
              "        }\n",
              "      </script>\n",
              "    </div>\n",
              "  </div>\n",
              "  "
            ]
          },
          "metadata": {},
          "execution_count": 25
        }
      ]
    },
    {
      "cell_type": "markdown",
      "source": [
        "# Análisis mediante Modelos de Machine Learning\n",
        "---"
      ],
      "metadata": {
        "id": "MTR0VAw3MoP0"
      }
    },
    {
      "cell_type": "markdown",
      "source": [
        "En esta sección se utilizarán dos modelos de aprendizaje supervisados los cuales son: regresión lineal y bosques aleatorios para predecir los precios de los alojamientos de la ciudad de Londres."
      ],
      "metadata": {
        "id": "EvSf-KbxM_DH"
      }
    },
    {
      "cell_type": "markdown",
      "source": [
        "# Modelo de Regresión Lineal\n",
        "\n",
        "Primero se convertiran todas las características de diferentes columnas en una sola columna y llamemos a esta nueva columna de vector como 'Atributos' en la columna de salida."
      ],
      "metadata": {
        "id": "qyp-vG__Gbwa"
      }
    },
    {
      "cell_type": "code",
      "source": [
        "from pyspark.ml.feature import VectorAssembler\n",
        "#Ingresar todas las característica en una columna\n",
        "\n",
        "assembler = VectorAssembler(inputCols=['latitude', 'longitude', 'accommodates', 'bedrooms', 'beds','review_scores_rating'], outputCol = 'Attributes')\n",
        "\n",
        "output = assembler.transform(df)\n",
        "\n",
        "#Entrada vs Salida\n",
        "finalized_data = output.select(\"Attributes\",\"price\")\n",
        "\n",
        "finalized_data.show()"
      ],
      "metadata": {
        "id": "L-StzjKqGcPN",
        "colab": {
          "base_uri": "https://localhost:8080/"
        },
        "outputId": "2e1d0a76-e726-4592-de5f-dd94319d61f0"
      },
      "execution_count": null,
      "outputs": [
        {
          "output_type": "stream",
          "name": "stdout",
          "text": [
            "+--------------------+-----+\n",
            "|          Attributes|price|\n",
            "+--------------------+-----+\n",
            "|[51.48085,-0.2808...|195.0|\n",
            "|[51.58478,-0.1605...| 72.0|\n",
            "|[51.47119,-0.1625...|250.0|\n",
            "|[51.57438,-0.2108...| 29.0|\n",
            "|[51.4878,-0.16813...| 75.0|\n",
            "|[51.52195,-0.1409...|307.0|\n",
            "|[51.53403,0.02709...| 33.0|\n",
            "|[51.54092,-0.0590...| 76.0|\n",
            "|[51.46416,-0.3255...| 65.0|\n",
            "|[51.50681,-0.2334...| 62.0|\n",
            "|[51.50701,-0.2336...|190.0|\n",
            "|[51.58684,-0.0863...| 45.0|\n",
            "|[51.54796,-0.1646...|110.0|\n",
            "|[51.52139,-0.1393...|400.0|\n",
            "|[51.41565,-0.0771...| 40.0|\n",
            "|[51.4786,-0.06114...| 42.0|\n",
            "|[51.60268,-0.2626...| 25.0|\n",
            "|[51.52605,-0.1994...| 42.0|\n",
            "|[51.59031,-0.0940...| 43.0|\n",
            "|[51.574,-0.21058,...| 25.0|\n",
            "+--------------------+-----+\n",
            "only showing top 20 rows\n",
            "\n"
          ]
        }
      ]
    },
    {
      "cell_type": "markdown",
      "source": [
        "A continuación, debemos dividir los datos de entrenamiento y prueba de acuerdo con nuestro conjunto de datos (0.8 y 0.2 en este caso)."
      ],
      "metadata": {
        "id": "IqJHpxpBG2Yw"
      }
    },
    {
      "cell_type": "code",
      "source": [
        "from pyspark.ml.regression import LinearRegression\n",
        "#Dividir los datos en entrenamiento y prueba\n",
        "train_data,test_data = finalized_data.randomSplit([0.8,0.2])\n",
        "\n",
        "\n",
        "regressor = LinearRegression(featuresCol = 'Attributes', labelCol = 'price')\n",
        "\n",
        "#Ajustar el modelo a partir del conjunto de entrenamiento\n",
        "regressor = regressor.fit(train_data)\n",
        "\n",
        "#Predecir los ### en conjunto de prueba\n",
        "pred = regressor.evaluate(test_data)\n",
        "\n",
        "#Predecir el modelo\n",
        "pred.predictions.show()"
      ],
      "metadata": {
        "id": "B8OG8qxTG5WH",
        "colab": {
          "base_uri": "https://localhost:8080/"
        },
        "outputId": "74678e4e-f3b8-4398-acba-3a5d6bf7be67"
      },
      "execution_count": null,
      "outputs": [
        {
          "output_type": "stream",
          "name": "stdout",
          "text": [
            "+--------------------+-----+------------------+\n",
            "|          Attributes|price|        prediction|\n",
            "+--------------------+-----+------------------+\n",
            "|[51.30085,0.03037...| 75.0|115.44957308830249|\n",
            "|[51.30137,0.05199...| 43.0| 145.7300144564083|\n",
            "|[51.302101,0.0617...|231.0| 58.65941744646011|\n",
            "|[51.30514,0.02887...| 32.0| 39.83022795907027|\n",
            "|[51.30587,0.02067...| 25.0|36.229528994565726|\n",
            "|[51.30675,0.03485...| 55.0| 61.55241236217262|\n",
            "|[51.30918,-0.1139...| 35.0| 47.98998354518608|\n",
            "|[51.31459,-0.1576...| 15.0| 50.00484174019789|\n",
            "|[51.31459,-0.1576...| 20.0| 76.52558717726174|\n",
            "|[51.32016,-0.1162...| 75.0|227.20313055252632|\n",
            "|[51.32026,-0.1531...|357.0| 76.35614731400369|\n",
            "|[51.32213,-0.1369...|160.0|160.95235146004984|\n",
            "|[51.32238,-0.0982...| 20.0|  45.7877357952525|\n",
            "|[51.33159,-0.1082...|190.0|220.27003936447977|\n",
            "|[51.33843,-0.1052...| 47.0| 73.15780258387645|\n",
            "|[51.33917,0.10434...|121.0|140.35235990238561|\n",
            "|[51.34034,-0.1155...| 28.0| 72.38678974000209|\n",
            "|[51.3425,-0.32074...| 87.0| 281.8588402355108|\n",
            "|[51.34352,-0.1312...|264.0|471.71629977861517|\n",
            "|[51.34353,-0.2067...| 96.0| 83.88251256150875|\n",
            "+--------------------+-----+------------------+\n",
            "only showing top 20 rows\n",
            "\n"
          ]
        }
      ]
    },
    {
      "cell_type": "markdown",
      "source": [
        "se obtuvieron los coeficientes y el intercepto del modelo de regresión usando el siguiente comando:"
      ],
      "metadata": {
        "id": "wTWcH80nHez1"
      }
    },
    {
      "cell_type": "code",
      "source": [
        "#Coeficientes del modelo de regresión\n",
        "coeff = regressor.coefficients\n",
        "\n",
        "#X y Y Intercepto\n",
        "intr = regressor.intercept\n",
        "\n",
        "print (\"los coeficientes del modelo son : %a\" %coeff)\n",
        "print (\"El intercepto es : %f\" %intr)"
      ],
      "metadata": {
        "id": "_Wu7DViNHgMw",
        "colab": {
          "base_uri": "https://localhost:8080/"
        },
        "outputId": "adfb5cb0-601d-4ee7-a813-6a69678bdbcb"
      },
      "execution_count": null,
      "outputs": [
        {
          "output_type": "stream",
          "name": "stdout",
          "text": [
            "los coeficientes del modelo son : DenseVector([33.3773, -79.532, 26.5207, 35.4531, -2.6748, -4.9735])\n",
            "El intercepto es : -1709.707135\n"
          ]
        }
      ]
    },
    {
      "cell_type": "markdown",
      "source": [
        "Finalmente se realiza la evaluación del modelo con el módulo **RegressionEvaluato** de Pyspark."
      ],
      "metadata": {
        "id": "2e3GiWn5H8rw"
      }
    },
    {
      "cell_type": "code",
      "source": [
        "from pyspark.ml.evaluation import RegressionEvaluator\n",
        "eval = RegressionEvaluator(labelCol=\"price\", predictionCol=\"prediction\", metricName=\"rmse\")\n",
        "\n",
        "# Error de raíz cuadrada media\n",
        "rmse = eval.evaluate(pred.predictions)\n",
        "print(\"RMSE: %.3f\" % rmse)\n",
        "\n",
        "# Error cuadrático medio\n",
        "mse = eval.evaluate(pred.predictions, {eval.metricName: \"mse\"})\n",
        "print(\"MSE: %.3f\" % mse)\n",
        "\n",
        "# Error absoluto medio\n",
        "mae = eval.evaluate(pred.predictions, {eval.metricName: \"mae\"})\n",
        "print(\"MAE: %.3f\" % mae)\n",
        "\n",
        "# r2 - coeficiente de determinación\n",
        "r2 = eval.evaluate(pred.predictions, {eval.metricName: \"r2\"})\n",
        "print(\"r2: %.3f\" %r2)\n"
      ],
      "metadata": {
        "id": "_MhFS_5qH8NW",
        "colab": {
          "base_uri": "https://localhost:8080/"
        },
        "outputId": "003bec13-cabb-4850-d86e-f0e412138c2f"
      },
      "execution_count": null,
      "outputs": [
        {
          "output_type": "stream",
          "name": "stdout",
          "text": [
            "RMSE: 260.821\n",
            "MSE: 68027.442\n",
            "MAE: 68.411\n",
            "r2: 0.083\n"
          ]
        }
      ]
    },
    {
      "cell_type": "markdown",
      "source": [
        "# Bosques Aleatorios (Random Forest)"
      ],
      "metadata": {
        "id": "hmHKajMvJrk8"
      }
    },
    {
      "cell_type": "code",
      "source": [
        "df2 = df.select('latitude', 'longitude', 'accommodates', 'bedrooms', 'beds','review_scores_rating','price','property_type','room_type')\n",
        "cols = df2.columns\n",
        "df2.printSchema()"
      ],
      "metadata": {
        "colab": {
          "base_uri": "https://localhost:8080/"
        },
        "id": "fS5UaWz_NZq5",
        "outputId": "24783df5-c2ff-4dfe-baf8-8196f6ae75f0"
      },
      "execution_count": null,
      "outputs": [
        {
          "output_type": "stream",
          "name": "stdout",
          "text": [
            "root\n",
            " |-- latitude: double (nullable = true)\n",
            " |-- longitude: double (nullable = true)\n",
            " |-- accommodates: integer (nullable = true)\n",
            " |-- bedrooms: double (nullable = true)\n",
            " |-- beds: double (nullable = true)\n",
            " |-- review_scores_rating: double (nullable = true)\n",
            " |-- price: double (nullable = true)\n",
            " |-- property_type: string (nullable = true)\n",
            " |-- room_type: string (nullable = true)\n",
            "\n"
          ]
        }
      ]
    },
    {
      "cell_type": "code",
      "source": [
        "from pyspark.ml.feature import OneHotEncoder, StringIndexer\n",
        "categoricalColumns = ['property_type','room_type']\n",
        "stages = []\n",
        "for categoricalCol in categoricalColumns:\n",
        "    stringIndexer = StringIndexer(inputCol = categoricalCol, outputCol = categoricalCol + 'Index')\n",
        "    encoder = OneHotEncoder(inputCols=[stringIndexer.getOutputCol()], outputCols=[categoricalCol + \"classVec\"])\n",
        "    stages += [stringIndexer, encoder]\n",
        "label_stringIdx = StringIndexer(inputCol = 'price', outputCol = 'label')\n",
        "stages += [label_stringIdx]\n",
        "numericCols = ['latitude', 'longitude', 'accommodates', 'bedrooms', 'beds','review_scores_rating']\n",
        "assemblerInputs = [c + \"classVec\" for c in categoricalColumns] + numericCols\n",
        "assembler = VectorAssembler(inputCols=assemblerInputs, outputCol=\"features\")\n",
        "stages += [assembler]"
      ],
      "metadata": {
        "id": "-eA2n7JhNyeu"
      },
      "execution_count": null,
      "outputs": []
    },
    {
      "cell_type": "code",
      "source": [
        "from pyspark.ml import Pipeline\n",
        "pipeline = Pipeline(stages = stages)\n",
        "pipelineModel = pipeline.fit(df2)\n",
        "df2 = pipelineModel.transform(df2)\n",
        "selectedCols = ['features','label'] + cols\n",
        "df2 = df2.select(selectedCols)\n",
        "df2.printSchema()"
      ],
      "metadata": {
        "colab": {
          "base_uri": "https://localhost:8080/"
        },
        "id": "MOkn8neYOapd",
        "outputId": "6b8c4fe5-2dea-4bf4-9894-f090db29a43e"
      },
      "execution_count": null,
      "outputs": [
        {
          "output_type": "stream",
          "name": "stdout",
          "text": [
            "root\n",
            " |-- features: vector (nullable = true)\n",
            " |-- label: double (nullable = false)\n",
            " |-- latitude: double (nullable = true)\n",
            " |-- longitude: double (nullable = true)\n",
            " |-- accommodates: integer (nullable = true)\n",
            " |-- bedrooms: double (nullable = true)\n",
            " |-- beds: double (nullable = true)\n",
            " |-- review_scores_rating: double (nullable = true)\n",
            " |-- price: double (nullable = true)\n",
            " |-- property_type: string (nullable = true)\n",
            " |-- room_type: string (nullable = true)\n",
            "\n"
          ]
        }
      ]
    },
    {
      "cell_type": "code",
      "source": [
        "train, test = df2.randomSplit([0.7, 0.3], seed = 2018)\n",
        "print(\"Training Dataset Count: \" + str(train.count()))\n",
        "print(\"Test Dataset Count: \" + str(test.count()))"
      ],
      "metadata": {
        "colab": {
          "base_uri": "https://localhost:8080/"
        },
        "id": "j3hiMUyhOyMQ",
        "outputId": "ccf61217-df8a-45e3-a01d-08ec03c1c6d1"
      },
      "execution_count": null,
      "outputs": [
        {
          "output_type": "stream",
          "name": "stdout",
          "text": [
            "Training Dataset Count: 31568\n",
            "Test Dataset Count: 13429\n"
          ]
        }
      ]
    },
    {
      "cell_type": "code",
      "source": [
        "train.show()"
      ],
      "metadata": {
        "colab": {
          "base_uri": "https://localhost:8080/"
        },
        "id": "PlTgP_B7Q1cw",
        "outputId": "483cb97f-b752-478e-c4d8-083b0534538e"
      },
      "execution_count": null,
      "outputs": [
        {
          "output_type": "stream",
          "name": "stdout",
          "text": [
            "+--------------------+-----+--------+---------+------------+--------+----+--------------------+-----+------------------+---------------+\n",
            "|            features|label|latitude|longitude|accommodates|bedrooms|beds|review_scores_rating|price|     property_type|      room_type|\n",
            "+--------------------+-----+--------+---------+------------+--------+----+--------------------+-----+------------------+---------------+\n",
            "|(102,[0,93,96,97,...| 32.0|51.41639| -0.20367|           4|     2.0| 2.0|                 0.0|180.0|Entire rental unit|Entire home/apt|\n",
            "|(102,[0,93,96,97,...|  1.0|51.41744| -0.17846|           3|     2.0| 2.0|                 0.0|100.0|Entire rental unit|Entire home/apt|\n",
            "|(102,[0,93,96,97,...| 68.0|51.42018| -0.08408|           3|     1.0| 1.0|                 0.0| 58.0|Entire rental unit|Entire home/apt|\n",
            "|(102,[0,93,96,97,...| 64.0|51.42175| -0.19843|           4|     2.0| 2.0|                 0.0|149.0|Entire rental unit|Entire home/apt|\n",
            "|(102,[0,93,96,97,...| 22.0| 51.4239|  -0.1719|           6|     2.0| 3.0|                 0.0| 99.0|Entire rental unit|Entire home/apt|\n",
            "|(102,[0,93,96,97,...| 46.0|51.42513| -0.20509|           3|     1.0| 1.0|                 0.0|300.0|Entire rental unit|Entire home/apt|\n",
            "|(102,[0,93,96,97,...|  4.0| 51.4257| -0.36304|           2|     2.0| 2.0|                 0.0| 35.0|Entire rental unit|Entire home/apt|\n",
            "|(102,[0,93,96,97,...|  3.0|51.43081|  -0.1054|           2|     1.0| 1.0|                 0.0| 30.0|Entire rental unit|Entire home/apt|\n",
            "|(102,[0,93,96,97,...|122.0|51.43083| -0.14988|           4|     2.0| 2.0|                 0.0| 87.0|Entire rental unit|Entire home/apt|\n",
            "|(102,[0,93,96,97,...| 14.0|51.43339| -0.04867|           3|     1.0| 1.0|                 0.0| 65.0|Entire rental unit|Entire home/apt|\n",
            "|(102,[0,93,96,97,...| 14.0|51.43642| -0.11426|           3|     2.0| 1.0|                 0.0| 65.0|Entire rental unit|Entire home/apt|\n",
            "|(102,[0,93,96,97,...| 11.0|51.43932| -0.11272|           2|     2.0| 2.0|                 0.0| 70.0|Entire rental unit|Entire home/apt|\n",
            "|(102,[0,93,96,97,...| 10.0|51.44041| -0.15436|           2|     2.0| 2.0|                 0.0| 90.0|Entire rental unit|Entire home/apt|\n",
            "|(102,[0,93,96,97,...|  5.0|51.44155|  0.09732|           2|     1.0| 1.0|                 0.0| 60.0|Entire rental unit|Entire home/apt|\n",
            "|(102,[0,93,96,97,...| 43.0|51.44467| -0.12907|           2|     1.0| 1.0|                 0.0| 79.0|Entire rental unit|Entire home/apt|\n",
            "|(102,[0,93,96,97,...| 14.0|51.44541| -0.20183|           2|     1.0| 1.0|                 0.0| 65.0|Entire rental unit|Entire home/apt|\n",
            "|(102,[0,93,96,97,...| 13.0|51.44693| -0.15229|           3|     1.0| 1.0|                 0.0| 75.0|Entire rental unit|Entire home/apt|\n",
            "|(102,[0,93,96,97,...| 36.0|51.45154| -0.11536|           4|     1.0| 2.0|                 0.0|115.0|Entire rental unit|Entire home/apt|\n",
            "|(102,[0,93,96,97,...| 17.0|51.45316| -0.32632|           2|     1.0| 1.0|                 0.0|110.0|Entire rental unit|Entire home/apt|\n",
            "|(102,[0,93,96,97,...| 68.0|51.45407| -0.11561|           3|     1.0| 2.0|                 0.0| 58.0|Entire rental unit|Entire home/apt|\n",
            "+--------------------+-----+--------+---------+------------+--------+----+--------------------+-----+------------------+---------------+\n",
            "only showing top 20 rows\n",
            "\n"
          ]
        }
      ]
    },
    {
      "cell_type": "code",
      "source": [
        "from pyspark.ml.classification import RandomForestClassifier\n",
        "rf = RandomForestClassifier(featuresCol = 'features', labelCol = 'label')\n",
        "rfModel = rf.fit(train)\n",
        "predictions = rfModel.transform(test)\n",
        "predictions.select('label','price', 'rawPrediction', 'prediction', 'probability').show()"
      ],
      "metadata": {
        "colab": {
          "base_uri": "https://localhost:8080/"
        },
        "id": "2RtGhbRBPMVn",
        "outputId": "57d63697-0476-4b82-941b-a850833bf05b"
      },
      "execution_count": null,
      "outputs": [
        {
          "output_type": "stream",
          "name": "stdout",
          "text": [
            "+-----+------+--------------------+----------+--------------------+\n",
            "|label| price|       rawPrediction|prediction|         probability|\n",
            "+-----+------+--------------------+----------+--------------------+\n",
            "|  0.0|  40.0|[0.16818638094707...|       1.0|[0.00840931904735...|\n",
            "| 16.0|  85.0|[0.16818638094707...|       1.0|[0.00840931904735...|\n",
            "|106.0|  57.0|[0.16818638094707...|       1.0|[0.00840931904735...|\n",
            "|  5.0|  60.0|[0.18219518957572...|       1.0|[0.00910975947878...|\n",
            "| 19.0| 200.0|[0.09193604373618...|       1.0|[0.00459680218680...|\n",
            "| 11.0|  70.0|[0.14330083794453...|       1.0|[0.00716504189722...|\n",
            "|  7.0| 120.0|[0.09193604373618...|       1.0|[0.00459680218680...|\n",
            "| 21.0| 140.0|[0.16818638094707...|       1.0|[0.00840931904735...|\n",
            "| 22.0|  99.0|[0.08615436647441...|       1.0|[0.00430771832372...|\n",
            "| 19.0| 200.0|[0.09193604373618...|       1.0|[0.00459680218680...|\n",
            "| 13.0|  75.0|[0.22855267056560...|       6.0|[0.01142763352828...|\n",
            "|398.0| 396.0|[0.16818638094707...|       1.0|[0.00840931904735...|\n",
            "| 13.0|  75.0|[0.16818638094707...|       1.0|[0.00840931904735...|\n",
            "|  1.0| 100.0|[0.13973678247976...|       1.0|[0.00698683912398...|\n",
            "| 23.0| 125.0|[0.10395516047302...|       1.0|[0.00519775802365...|\n",
            "|160.0|1000.0|[0.09193604373618...|       1.0|[0.00459680218680...|\n",
            "| 38.0|  89.0|[0.16462232548229...|       1.0|[0.00823111627411...|\n",
            "|  9.0|  45.0|[0.09193604373618...|       1.0|[0.00459680218680...|\n",
            "| 41.0| 170.0|[0.10553586339561...|       1.0|[0.00527679316978...|\n",
            "| 29.0| 160.0|[0.09741217353184...|       1.0|[0.00487060867659...|\n",
            "+-----+------+--------------------+----------+--------------------+\n",
            "only showing top 20 rows\n",
            "\n"
          ]
        }
      ]
    },
    {
      "cell_type": "markdown",
      "source": [
        "Evaluación del clasificador\n",
        "\n"
      ],
      "metadata": {
        "id": "83tNHRQmKplA"
      }
    },
    {
      "cell_type": "code",
      "source": [
        "eval = RegressionEvaluator(labelCol=\"price\", predictionCol=\"prediction\", metricName=\"rmse\")\n",
        "\n",
        "# Error de raíz cuadrada media\n",
        "rmse = eval.evaluate(predictions)\n",
        "print(\"RMSE: %.3f\" % rmse)\n",
        "\n",
        "# Error cuadrático medio\n",
        "mse = eval.evaluate(predictions, {eval.metricName: \"mse\"})\n",
        "print(\"MSE: %.3f\" % mse)\n",
        "\n",
        "# Error absoluto medio\n",
        "mae = eval.evaluate(predictions, {eval.metricName: \"mae\"})\n",
        "print(\"MAE: %.3f\" % mae)\n",
        "\n",
        "# r2 - coeficiente de determinación\n",
        "r2 = eval.evaluate(predictions, {eval.metricName: \"r2\"})\n",
        "print(\"r2: %.3f\" %r2)\n"
      ],
      "metadata": {
        "id": "7e5ITyeZKtQ1",
        "colab": {
          "base_uri": "https://localhost:8080/"
        },
        "outputId": "7aab1ca3-caef-4f8c-e688-f6e29f074aeb"
      },
      "execution_count": null,
      "outputs": [
        {
          "output_type": "stream",
          "name": "stdout",
          "text": [
            "RMSE: 309.985\n",
            "MSE: 96090.624\n",
            "MAE: 125.339\n",
            "r2: -0.187\n"
          ]
        }
      ]
    },
    {
      "cell_type": "markdown",
      "source": [
        "#Conclusiones\n",
        "---\n",
        "\n",
        "Al aplicar los dos modelos supervisados, lo que se obtuvieron fue un coeficiente de determinación menor al 20%, lo que nos indica que estos dos modelos no predicen los precios de los alojamientos correctamente, esto se debe a la baja correlación que hay entre las variables, problemática que se evidenció en el proyecto del módulo anterior, por lo que utilizaron modelos diferentes para obtener una mejor predicción, sin embargo, con este ejercicio se quería implementar lo aprendido con la metodología Apache Spark en la parte de Machine Learnig, donde pudimos encontrar que es muy similar, pero más potente al momento de correr los modelos, lo que se refleja en el tiempo de entrenamiento y evaluación de los mismos."
      ],
      "metadata": {
        "id": "L8_rC3IYLGMK"
      }
    },
    {
      "cell_type": "markdown",
      "source": [
        "# Video\n",
        "---\n",
        "A continuación se tiene el link del video cargado en YouTube:\n",
        "https://youtu.be/NdH5OrEMPO8"
      ],
      "metadata": {
        "id": "PaDhVsUnJgDl"
      }
    }
  ],
  "metadata": {
    "colab": {
      "collapsed_sections": [],
      "name": "Proyecto 3 MLDS3 ",
      "provenance": []
    },
    "kernelspec": {
      "display_name": "Python 3",
      "name": "python3"
    },
    "language_info": {
      "name": "python"
    }
  },
  "nbformat": 4,
  "nbformat_minor": 0
}